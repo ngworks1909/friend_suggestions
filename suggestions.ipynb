{
 "cells": [
  {
   "cell_type": "code",
   "execution_count": 7,
   "id": "6ca4d4cc",
   "metadata": {},
   "outputs": [],
   "source": [
    "import json"
   ]
  },
  {
   "cell_type": "code",
   "execution_count": 8,
   "id": "8dcd63c3",
   "metadata": {},
   "outputs": [],
   "source": [
    "def load_data(file_path):\n",
    "    with open(file_path, 'r') as file:\n",
    "        data = json.load(file)\n",
    "    return data"
   ]
  },
  {
   "cell_type": "code",
   "execution_count": 9,
   "id": "76535a92",
   "metadata": {},
   "outputs": [],
   "source": [
    "data = load_data('users.json')"
   ]
  },
  {
   "cell_type": "code",
   "execution_count": 10,
   "id": "d6cb081b",
   "metadata": {},
   "outputs": [],
   "source": [
    "nulls = []\n",
    "users = {}\n",
    "\n",
    "for user in data:\n",
    "    if(user['userId'] is None): continue\n",
    "    if(user['username'] is None or len(user['friends']) == 0):\n",
    "        nulls.append(user['userId'])\n",
    "    else: \n",
    "        users[user['userId']] = user"
   ]
  },
  {
   "cell_type": "code",
   "execution_count": 13,
   "id": "902701f1",
   "metadata": {},
   "outputs": [],
   "source": [
    "userId = \"24249260-3981-492d-bb20-9bfd6cab2c99\""
   ]
  },
  {
   "cell_type": "code",
   "execution_count": 14,
   "id": "1e2f419d",
   "metadata": {},
   "outputs": [
    {
     "name": "stdout",
     "output_type": "stream",
     "text": [
      "[{'userId': '495d98e9-1395-4945-8896-30d674e8a853', 'username': 'AaravReddy55', 'friends': ['37ecfcf1-dc18-4498-b108-0ea863a77f2a', '1018451b-5e08-4520-8739-0b63ed7fbc6c', '4bbe38ba-715f-40a8-bcc1-a17d79314cf0', 'cf3b405f-eabd-43af-bed1-d95d11bfcb92', 'a2884675-65d4-4c70-a345-f17347903a16', '6246b80f-2261-4318-aebf-c88c9c97097e', '9df982f6-9c3c-4025-bdde-2f9497c391f4', '2451e3bb-3cae-4d49-9b90-1b4c845c5efe', '16548bbf-2f55-4db7-911f-89d235845ca5', 'c335b4aa-127e-452d-875a-d911ba0b0e98'], 'mutual_friends': 2}, {'userId': '325f152f-efcb-4323-b33d-c0b82226e5d5', 'username': 'SaanviDas995', 'friends': ['e6f77629-31f2-496d-ad0b-4f66a1c6a67d', 'c7a0b18b-6ba6-492e-82fa-aa5292cff11c', '93b0debb-eff3-4638-9ffa-9fe233848ffc', '05f832cf-f46b-45f1-8a0e-26c828718763'], 'mutual_friends': 1}, {'userId': 'c8fb1bee-07cf-4ad7-90c1-af58ebe52c3d', 'username': 'KiaraGupta601', 'friends': ['c7a0b18b-6ba6-492e-82fa-aa5292cff11c'], 'mutual_friends': 1}, {'userId': 'cc1c355b-3eb2-4524-aa8e-466394fc7a50', 'username': 'MyraVerma189', 'friends': ['4299a60e-6a1e-4a28-9223-7486c13110f8', 'cff07151-68d0-471d-ba71-325f583c2f41', '579ac49c-01c6-4367-bcbd-35bb5aece9d5', '02e9a7fb-74b4-4174-913f-c4b0449f68c8', 'c4e3cb9e-de38-4048-a34a-c7423376b30d', '9bda23e2-ad19-4442-ac13-84e7122e575b'], 'mutual_friends': 1}, {'userId': 'd3a94b85-01ff-4e8a-b525-75ed92fa5076', 'username': 'SaiJoshi916', 'friends': ['94f373de-ec6d-4d42-b1ad-38670f602abe', 'ca95f780-7c37-48cf-bd05-01b34aaf47fc', '6ef7437c-2a59-497b-a404-8692773b0636', '336314da-8398-4a2e-97af-b14761a5d1d8'], 'mutual_friends': 1}, {'userId': '05d0e021-1429-40d7-9cd6-102513c6f76a', 'username': 'VivaanGupta415', 'friends': ['a83f03ae-4ab0-44ec-8fb8-dadb57ce8d8b', '1130fb5f-2017-4570-8578-6e0fd75ecf91', '4b181842-a866-47bf-9f93-1b6a03dac47a', '145168ca-1898-43a0-ba75-5beccdfcc9d9', '2ef505f1-6eab-472c-a480-54ee2f2ec082', 'fa4ad548-0cd9-46b2-8eff-b21b472a7e98', 'f93604a8-306d-45c7-b53a-794ec5a4c89a', 'fe2ce44b-8096-4252-aadb-ec72b9164b2f', '2b32c8dd-1e14-4260-980c-5710ee27eae3'], 'mutual_friends': 1}, {'userId': 'efb442c0-80b8-474d-a2a2-40661acb17f0', 'username': 'AdityaYadav225', 'friends': ['9818f810-a6ce-4268-b383-61a01dfff85f', 'be7df219-ddac-4df7-8b1e-43f9f44d784d', '93076e6e-2acc-43c3-8fcd-fb60c0804d34', 'fcb6d2c4-ec78-44a4-b7c9-a6723881bb23', 'c24f0cf1-ea9c-4c84-aa81-cd5b49deddb2', '491d50ec-1cb9-4163-9ab1-5e75e64930b8', 'aeb477b7-9868-433d-a4fc-cae6589ca192', '6897df0d-8e6e-4b36-b0b3-7194835e77a1', '3be5ec54-0a02-45ba-bee0-5381ee43f324'], 'mutual_friends': 1}, {'userId': '9f253587-72bb-4e67-9e7c-e5320f5d57d9', 'username': '', 'friends': ['1e68126e-ec82-4794-8be3-b6504432e445', '97be135e-5348-41ab-966f-7e855271978e', '3f34bd4f-14be-4683-8c71-4a216ce0a5e6'], 'mutual_friends': 1}, {'userId': '312b165e-8fe8-45c2-92e5-a426924eec8b', 'username': 'KrishnaIyer580', 'friends': ['5863f553-420a-4d2d-bb6f-caf23d99a750', '0d290f50-b957-4b5c-9157-55f7cd4b75bd', '1130fb5f-2017-4570-8578-6e0fd75ecf91', '65012e74-481c-4d1a-a930-241aa1e696cb', 'def63606-ed51-484a-a805-dddfa393ad4e', '31513f51-db7e-4367-bb3a-548eea7e78b2', '58b6cb2e-7fb7-4efb-86d8-1a53b2bdca0b', '3fd1be6b-5d9f-4bc7-8036-3c7b08e84ed5', '40b04b77-01fa-4e75-8ea0-1c01af4f6598'], 'mutual_friends': 1}, {'userId': 'a235b0ac-1f78-45d7-9edd-2fd312125f1e', 'username': 'MyraJoshi921', 'friends': ['5606023f-d283-402d-af3d-4e0ca268f3ee', '0ce672ce-bccb-4758-8928-5880f47fe87a', 'bcaee10e-31ed-4376-8a10-99dd3905254e', '8a2fc2c8-d782-4454-a5ce-438fa7b49c39', '3cf9cb77-08fa-4f6e-b5eb-cc145f0fd05f', '86471f2b-22f9-4ea8-980b-f508b32d4429', '321fb0fa-8168-4b59-b1c3-3f118df732e7', 'aa527650-3c93-4943-85b3-7fce977cbce5'], 'mutual_friends': 1}, {'userId': '90a84c95-1494-4898-803a-dc13a1cfcf9d', 'username': 'MyraVerma723', 'friends': ['ed163c8f-9503-4b6f-8f56-2d7ae96d91dd', '26c215f6-21c8-4dbc-b938-ff141fe57b12', 'f1469250-0d1e-480a-b73f-4437e0d227ab', '815ef49f-1d9c-48bc-8492-e46f043aa961', 'b34f5b60-387f-4d3f-a051-50a780138772', '77444126-6707-4175-aa9b-eba45c93f765', '4c2ab815-dc13-4c3b-a9a1-029eb9f0afd3', 'fd133f21-a29f-4b60-bf74-a76199d14d2c', 'c36be0e8-e983-4fa5-9363-6fc61a724cf3'], 'mutual_friends': 1}, {'userId': '41715b9b-ddac-4e6a-ae00-3342f1283342', 'username': 'KrishnaNair913', 'friends': ['d20b36c2-61b5-4262-8063-4b077a7b8fcf', '770b9f9b-b0ab-45db-a899-d71fc6fb848b', 'bb409463-821d-4c9a-9207-6efb262d53c8', 'c8512188-4ec8-4914-9b4a-6a8b00a094f2', 'a38b7ec9-ccb0-4ab2-b1ce-45cff5cd2111', 'f1469250-0d1e-480a-b73f-4437e0d227ab', 'f9409a20-94eb-4d38-99b7-231382066bdf', 'f9ace59b-163a-4477-b844-757be38916cc'], 'mutual_friends': 1}, {'userId': 'f71fce60-7899-4df7-b101-b292cb885c64', 'username': 'ArjunReddy967', 'friends': ['cc1c355b-3eb2-4524-aa8e-466394fc7a50', 'd450a5a1-ccb3-4023-9f3b-0db5beadc9cb', '73e833ca-cc92-4326-9165-8c094b1ed851', '6c6be4cc-800b-432a-afe2-328618e92c95', 'fb8d244c-b8e1-4ebd-9c37-3c066dcadf0a', '58b6cb2e-7fb7-4efb-86d8-1a53b2bdca0b', '40bc7c3a-6741-40d9-a45f-933c65cd4ac7', '62840db5-a2c2-448d-bac1-bd3bc29f8e94'], 'mutual_friends': 1}, {'userId': 'a7d64710-1894-4be7-875f-67b5274d1f36', 'username': 'VivaanPatel792', 'friends': ['41b1abe7-448d-4c0f-b855-0cde82c59e96', '73e833ca-cc92-4326-9165-8c094b1ed851', 'a490140f-d707-46c7-9f6d-a2c729a9fdcb', '3f684ea6-6c49-4c76-b30a-046109deb458', '9bda23e2-ad19-4442-ac13-84e7122e575b', '08ab0e4a-9eff-48da-b542-fcd17327d4dc', 'b2449a94-c6e3-4061-928f-c3462a649ab2', '711d49be-110c-4e80-a85f-3db71ba35f6f', 'b134e986-7a40-4c71-b17b-fb6fa3080ccd', '5ebcedae-a832-408d-a0ec-60ef979ce728'], 'mutual_friends': 1}, {'userId': '79a34a82-f118-4c84-b047-2e336e41d6af', 'username': 'AarohiGupta200', 'friends': ['9df982f6-9c3c-4025-bdde-2f9497c391f4', '6ff81fcf-dbd0-42ff-9b76-c870729a6883'], 'mutual_friends': 1}, {'userId': 'a3d37dfc-135e-4b0a-b445-dcf9ef6c868d', 'username': 'KiaraYadav164', 'friends': ['1da8592c-23ba-46e6-848f-529f7b93ecb5', '6897df0d-8e6e-4b36-b0b3-7194835e77a1', '1f506fb3-e51f-4e15-a068-4624c46e993d', '133cbad4-9b72-4f7b-bf48-c4b3eb3fbd5d', 'e45d3297-cd5c-4fcc-ba64-2fb089990704', '881ab34c-1143-4d4b-871a-6f20969e2560', '286c09ee-ac72-4a66-a230-b493183a796d'], 'mutual_friends': 1}, {'userId': '969760da-8548-411e-a8c2-2021752949b2', 'username': '', 'friends': ['f3d9e9fe-033b-44a9-aa77-5903a250b796', 'fdfe0992-181a-47ea-8b4d-ba0f89893705', 'a59d0e45-19d1-4c26-8771-a79374705e23', 'ae535129-7930-424c-8db7-5269d42cf626', 'edd66560-bcc3-4672-a5da-1076512b8863', 'f4f9d8c6-e6a7-4a00-bfad-7b22e36beae8', 'a3585dfd-d00a-41c0-9067-55a2eb55a572', 'd450a5a1-ccb3-4023-9f3b-0db5beadc9cb'], 'mutual_friends': 1}, {'userId': '473e8483-ad08-4f67-8ee3-2d2417f708c4', 'username': 'IshaanJoshi403', 'friends': ['d8fcd230-437b-4148-9c50-647fab980a4f', '9593dea6-b3b3-4e65-b7a6-8484edfbdaa9', '69428b8e-a925-48fd-bca7-7eb9523774f8', '881ab34c-1143-4d4b-871a-6f20969e2560', '9b80509b-2e92-47a8-a7ad-01825fbe7052', '65c87ee2-cdf4-45be-b788-8f8888033979', '66ff0419-7f96-4ef1-bbf8-5cbcaf108987', 'ac8b3efa-7f65-42a3-858a-04be2745c359', 'a38b7ec9-ccb0-4ab2-b1ce-45cff5cd2111', '40bc7c3a-6741-40d9-a45f-933c65cd4ac7'], 'mutual_friends': 1}, {'userId': '08745729-7340-4b92-9402-08b782d1d3bf', 'username': 'MyraGupta539', 'friends': ['3c2bbbaa-67cb-46cc-848f-5ecc4e5c1544', '876f30ae-30e4-465e-8460-cfbb3fde3d4b', 'f6def8ab-788e-482a-b2e4-a765f3092ab2', 'a83f03ae-4ab0-44ec-8fb8-dadb57ce8d8b', 'babd6ade-f999-4c36-86ae-23fcea709fb2', 'f93604a8-306d-45c7-b53a-794ec5a4c89a'], 'mutual_friends': 1}, {'userId': '909e6983-6625-44d2-89b8-d9073f524426', 'username': 'AarohiChatterjee156', 'friends': ['6ef7437c-2a59-497b-a404-8692773b0636', '06d0422c-0027-4844-be5c-429dbf9130e3', '8dd68d6a-dceb-4f44-b007-317906b51250', '79cdd7b4-7b5a-4e1c-8037-1cd42236af5e', '94f373de-ec6d-4d42-b1ad-38670f602abe', '9e9d2efc-ef33-4da9-b10a-21cee401c040', 'b66d8c6e-07c8-489d-8c38-44de1751b833'], 'mutual_friends': 1}, {'userId': 'a25e8117-d8f6-4033-9007-7ba374795137', 'username': 'DiyaVerma393', 'friends': ['391df850-cedb-4fad-862b-e79d065e9fbf', 'bb409463-821d-4c9a-9207-6efb262d53c8', '1d716fc0-9803-41db-a342-3d62734ec6fe'], 'mutual_friends': 1}]\n"
     ]
    }
   ],
   "source": [
    "def get_suggestions(userId): \n",
    "    total_friends = {}\n",
    "    for user in users.values():\n",
    "        total_friends[user['userId']] = set([userId for userId in user['friends'] if userId not in nulls])\n",
    "\n",
    "    if userId not in total_friends:\n",
    "        return []\n",
    "    \n",
    "    direct_friends = total_friends[userId]\n",
    "\n",
    "    suggestion_friends = {}\n",
    "\n",
    "    for friend in direct_friends:\n",
    "        for friend_friend in total_friends[friend]:\n",
    "            if friend_friend != userId and friend_friend not in direct_friends:\n",
    "                suggestion_friends[friend_friend] = suggestion_friends.get(friend_friend, 0) + 1\n",
    "\n",
    "    suggestion_friends = sorted(suggestion_friends.items(), key=lambda x: x[1], reverse=True)\n",
    "\n",
    "    suggestions = []\n",
    "    \n",
    "    for suggestion_id, mutual_count in suggestion_friends:\n",
    "        suggestion  = users.get(suggestion_id)\n",
    "        if suggestion:\n",
    "            suggestion_copy = suggestion.copy()\n",
    "            suggestion_copy['mutual_friends'] = mutual_count\n",
    "            suggestions.append(suggestion_copy)\n",
    "\n",
    "    return suggestions\n",
    "\n",
    "suggestions = get_suggestions(userId)\n",
    "print(suggestions)"
   ]
  },
  {
   "cell_type": "code",
   "execution_count": null,
   "id": "4548d306",
   "metadata": {},
   "outputs": [],
   "source": []
  }
 ],
 "metadata": {
  "kernelspec": {
   "display_name": "Python 3",
   "language": "python",
   "name": "python3"
  },
  "language_info": {
   "codemirror_mode": {
    "name": "ipython",
    "version": 3
   },
   "file_extension": ".py",
   "mimetype": "text/x-python",
   "name": "python",
   "nbconvert_exporter": "python",
   "pygments_lexer": "ipython3",
   "version": "3.12.0"
  }
 },
 "nbformat": 4,
 "nbformat_minor": 5
}
