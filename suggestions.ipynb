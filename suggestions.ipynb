{
 "cells": [
  {
   "cell_type": "code",
   "execution_count": 1,
   "id": "6ca4d4cc",
   "metadata": {},
   "outputs": [],
   "source": [
    "import json"
   ]
  },
  {
   "cell_type": "code",
   "execution_count": 2,
   "id": "8dcd63c3",
   "metadata": {},
   "outputs": [],
   "source": [
    "def load_data(file_path):\n",
    "    with open(file_path, 'r') as file:\n",
    "        data = json.load(file)\n",
    "    return data"
   ]
  },
  {
   "cell_type": "code",
   "execution_count": 3,
   "id": "76535a92",
   "metadata": {},
   "outputs": [],
   "source": [
    "data = load_data('users.json')"
   ]
  },
  {
   "cell_type": "code",
   "execution_count": 4,
   "id": "d6cb081b",
   "metadata": {},
   "outputs": [],
   "source": [
    "nulls = []\n",
    "users = {}\n",
    "\n",
    "for user in data:\n",
    "    if(user['userId'] is None): continue\n",
    "    if(user['username'] is None or len(user['friends']) == 0):\n",
    "        nulls.append(user['userId'])\n",
    "    else: \n",
    "        users[user['userId']] = user"
   ]
  },
  {
   "cell_type": "code",
   "execution_count": 5,
   "id": "902701f1",
   "metadata": {},
   "outputs": [],
   "source": [
    "userId = \"e888f218-e6d3-42c5-bac3-48d4184a7201\""
   ]
  },
  {
   "cell_type": "code",
   "execution_count": 6,
   "id": "1e2f419d",
   "metadata": {},
   "outputs": [
    {
     "name": "stdout",
     "output_type": "stream",
     "text": [
      "[{'userId': '24249260-3981-492d-bb20-9bfd6cab2c99', 'username': 'IshaanChatterjee546', 'friends': ['d253e784-bdaf-4a6d-b3bc-312ab01eafc7', '711b18aa-b24d-4ad9-9f68-b07853d40ce8', 'a65d0f6c-221b-4b6c-af70-39260362ff9d', '0500c8d9-c584-4588-bbba-58409b7711b0', '5280ab24-cd81-4372-9b48-8fef5f569e6b', '1b9dfe3e-2f1f-4c9c-bd39-e3e13bbb0021', '92e2a45e-4764-4be0-8fd5-e712abcf4c8e'], 'mutual_friends': 1}, {'userId': '234b8eb2-c98a-4dd8-abcd-8f3f89129cfb', 'username': 'AdityaYadav764', 'friends': ['5905538e-5f72-4d6a-94f2-0779d6aa0ba5', 'cc4e4427-6d2b-402b-8630-79d8f88ecd63', '5d05a7fe-5c8d-4497-842c-ca865adf73bb', '50763df3-d244-4fab-9b0c-0ddb3a80064a', '0f9137b2-aa46-44f5-8ef0-0ae39c243d75', '7a7a4a1d-ff01-47c4-9a1a-63a55c9ee3dc', 'e43f7c48-8c02-4ad5-881a-d36a63c2d3b7'], 'mutual_friends': 1}, {'userId': '51a1172a-c252-44d8-84a5-5c0966cb025e', 'username': 'AaravKapoor556', 'friends': ['9528c830-1490-4a9a-aa49-4aa0d1072e1e', 'c29ab7bb-f970-4859-b0e8-004be4e4afad', '76550bb7-43ef-4472-8167-ed4c84bb6734', '7d1e1783-452e-4fce-85a4-597ddcb774cc'], 'mutual_friends': 1}, {'userId': 'e86a9153-7e8c-4e7a-b652-ef0aff000eb0', 'username': 'MyraVerma900', 'friends': ['9086b473-9e23-43cd-8870-781704b1eef6', '7542db20-130d-4513-b4e7-f993e92e58b8', '5aa5c3c1-8710-44c3-8267-942719615346', '97be135e-5348-41ab-966f-7e855271978e'], 'mutual_friends': 1}, {'userId': '969760da-8548-411e-a8c2-2021752949b2', 'username': '', 'friends': ['f3d9e9fe-033b-44a9-aa77-5903a250b796', 'fdfe0992-181a-47ea-8b4d-ba0f89893705', 'a59d0e45-19d1-4c26-8771-a79374705e23', 'ae535129-7930-424c-8db7-5269d42cf626', 'edd66560-bcc3-4672-a5da-1076512b8863', 'f4f9d8c6-e6a7-4a00-bfad-7b22e36beae8', 'a3585dfd-d00a-41c0-9067-55a2eb55a572', 'd450a5a1-ccb3-4023-9f3b-0db5beadc9cb'], 'mutual_friends': 1}, {'userId': '0b31dc57-4199-4968-bc00-19a080995e2d', 'username': '', 'friends': ['ed242d36-08a1-43e8-a530-1a1460e0676c', 'e3e1cd17-3de0-4106-9908-ecd221a2eda5', '3a1c7947-b4d3-4c17-a46b-3bb0e4011299'], 'mutual_friends': 1}, {'userId': '3ccf81ee-c17b-4a55-bfc6-c629600450aa', 'username': 'IraVerma744', 'friends': ['150be0f2-f8c6-4295-ba0b-ea6e9ecfc2a9', '94f373de-ec6d-4d42-b1ad-38670f602abe', '3b99c420-7c05-4e0a-af34-28d140c55c9f', '2d8d8114-91bf-4066-a32f-66e24833c214', '92a3608f-04b0-4b1d-a520-165ed436e2db', '701b07da-a9c1-4036-b21a-139a578c8dea', '92e2a45e-4764-4be0-8fd5-e712abcf4c8e', '6ff81fcf-dbd0-42ff-9b76-c870729a6883'], 'mutual_friends': 1}, {'userId': '323f488f-2204-4d01-bb96-5aacd14bda23', 'username': 'KrishnaChatterjee804', 'friends': ['3ff873a3-28e8-42ff-b1ac-29e35bc5a151', '517c6845-7a3b-4d01-9f26-f1433cbb4f3b', '9c4243a1-8e62-4eee-a8b0-6b1dadb8fc21', 'c3a74c6f-5867-42ea-b953-7578be969b2a', 'f58efbfa-9b60-4442-b221-7acf1b32c14f', '89a61946-c56d-459e-bc9f-6ccf808ff816', 'e6d4510a-aa0d-42cf-abe9-53fdada51fd6'], 'mutual_friends': 1}, {'userId': '0d145e4f-9d10-42c4-8fa9-b0ab743036c2', 'username': 'VivaanMehta635', 'friends': ['ec506eb5-5365-4a24-90f1-6a60232ce70e', 'a72b1827-0957-439d-b50b-a5e9b7b4d84e', '770e3f71-a9ff-4a81-8e26-6dd6e09545e8'], 'mutual_friends': 1}, {'userId': 'cc74bdce-e7fd-4682-bf94-71e06253ff6b', 'username': 'VivaanKumar873', 'friends': ['1130fb5f-2017-4570-8578-6e0fd75ecf91', '41715b9b-ddac-4e6a-ae00-3342f1283342', '55096cc1-5ca2-45e0-ab4e-afe5b87f52c4', '2f8515eb-8b16-4995-b15d-3784642de828'], 'mutual_friends': 1}, {'userId': 'ebdea00a-484d-4185-9962-de266ec1fa63', 'username': 'AarohiGupta763', 'friends': ['5483d6e8-9cf3-4ade-afa2-778b967c9f49', '4d01a1c4-2d2c-4945-ac76-9900359209b8', '3ac10563-6603-4887-addf-fdb81e87cbc5', '0ac19229-620f-434d-97a8-f48804ba8030', '1f886ad7-a7f6-4051-afc5-250f612aea94', '4ceea69a-b3fb-40f6-bfb5-1a2307b77f09'], 'mutual_friends': 1}, {'userId': '4bbe38ba-715f-40a8-bcc1-a17d79314cf0', 'username': 'IshaanJain912', 'friends': ['648fc11a-7667-4c99-983c-2afe27494a38', 'fde12761-8a01-412f-b0a1-6d46df12e458'], 'mutual_friends': 1}, {'userId': '23c58c9d-ea78-4673-ad30-80c4abfeab61', 'username': 'SaanviPatel572', 'friends': ['2f8515eb-8b16-4995-b15d-3784642de828', '097f0210-86cf-4808-918c-d31ed26fac35', '05f832cf-f46b-45f1-8a0e-26c828718763'], 'mutual_friends': 1}, {'userId': '5c89ac64-57cd-4443-9500-a498a2d7169d', 'username': 'VihaanMehta46', 'friends': ['34e652e0-7e4d-4909-b161-804a366a4959', '08be7f68-be3e-486e-b881-c7191a46b3a3', '0af8786d-8ee0-4730-b231-5716c56eb88d'], 'mutual_friends': 1}, {'userId': '02e9a7fb-74b4-4174-913f-c4b0449f68c8', 'username': 'AadhyaRao531', 'friends': ['080168a8-f86d-42a7-8833-72d39360bb03', '1453e5a8-c068-407b-83bc-91311196c705', 'f4e75cf8-ef6f-442a-af95-c8ee77403561', '57186255-ccce-4f80-9a90-a3ef36dd538a', 'f12e753b-d049-4e1f-aa7f-724abb7caeb9', 'e79135bc-01d0-4a8d-8c0c-aa06f60683be', 'a7ac68f8-0882-459c-a1d8-dbe7687e223f', 'b8a268a9-8f6b-4554-8151-705b00428b82', 'a32be5d8-41a3-479d-81d5-f130d2d61e60', '2451e3bb-3cae-4d49-9b90-1b4c845c5efe'], 'mutual_friends': 1}, {'userId': '94f373de-ec6d-4d42-b1ad-38670f602abe', 'username': 'IshaanSharma347', 'friends': ['c208aa2c-84b4-48ef-a1b4-1f96b2969d7d', '19b15bbd-bc1b-42a7-93fe-ccf97d1a65d0', '835cc7a6-8928-4a68-974a-ae91066fcd5e', 'f5c80d29-17eb-478c-8a1a-d2900293235d'], 'mutual_friends': 1}, {'userId': '769d9010-380e-426b-9864-c3fa5da72c67', 'username': 'VivaanRao315', 'friends': ['0a20c3a6-9da9-4cd3-a476-db98d5791a55', '080168a8-f86d-42a7-8833-72d39360bb03'], 'mutual_friends': 1}, {'userId': 'f131abc7-be36-4c81-a5b6-2115aa6e9c75', 'username': 'SaanviSharma627', 'friends': ['88f463ff-acb5-4296-bea4-e2e3ed52484b', 'bd78837a-65e6-4e28-a837-c01a8d2dea67', 'c4e3cb9e-de38-4048-a34a-c7423376b30d', '66ff0419-7f96-4ef1-bbf8-5cbcaf108987', '097f0210-86cf-4808-918c-d31ed26fac35', 'c886629c-be1a-431d-8ed9-3579c42423bf', '579ac49c-01c6-4367-bcbd-35bb5aece9d5', '335e2e33-f9cc-4f66-a5ab-9fd6f2134127', '5aabfde0-32bc-4ee5-aaff-d839c580de57'], 'mutual_friends': 1}, {'userId': '6df1272a-19bd-4ce4-a74d-885ade14ee62', 'username': 'AaravDas654', 'friends': ['65527f58-bdb1-4874-a683-cbc6cb4716e2'], 'mutual_friends': 1}, {'userId': 'f9fc20db-69af-4463-8afd-8979124e25c0', 'username': 'KiaraReddy604', 'friends': ['7542db20-130d-4513-b4e7-f993e92e58b8', '12c62a95-99f4-4688-8429-c0ea69956c37', 'c6c281e1-3eb7-4e81-9b90-56158bc804fe', '2e1a7c7f-8047-490d-b89b-b29f4761e158'], 'mutual_friends': 1}, {'userId': '85832882-94ce-40ae-9509-aabbc65af71c', 'username': 'VihaanPatel340', 'friends': ['065ca15f-24fa-4f75-8989-49eb0e569ca8', '44b50dc5-ccba-468c-844d-00aee6c11cb7', '1a4f1738-2bca-4405-9ccb-d82b6544fb8f', '5483d6e8-9cf3-4ade-afa2-778b967c9f49', '713b7023-d281-44ec-99e6-8cc52586b3cf', '2451e3bb-3cae-4d49-9b90-1b4c845c5efe'], 'mutual_friends': 1}, {'userId': '0ce672ce-bccb-4758-8928-5880f47fe87a', 'username': 'IshaanVerma828', 'friends': ['572c5871-2824-49cc-bac8-d5345b343278', '9ff2f35d-6285-4a7a-8d9b-bba15951d1cf', 'aa527650-3c93-4943-85b3-7fce977cbce5', '70506b27-4edd-401c-abde-9fe314c37925', 'ae1121ee-e1f2-4b62-b07e-5764818720a0', '770b9f9b-b0ab-45db-a899-d71fc6fb848b', '238b446f-1ed3-4e2c-83c1-a5f8a3b27aa5'], 'mutual_friends': 1}, {'userId': 'be8c5b35-a47b-4a96-8a44-3ae05574c240', 'username': 'KrishnaChatterjee49', 'friends': ['c8fb1bee-07cf-4ad7-90c1-af58ebe52c3d', '2e19f769-72b9-4464-bbd1-33cb6cfb33c4', '24b85c56-453b-477f-964b-a4de572b53fb', '8e404808-dc50-4c81-862a-f05067dcc6b7', '49405b35-3dd8-4ac0-85fa-0f2c3a898bbf', 'b67c97e2-14c6-4dc3-baec-efddac279b0d', '711b18aa-b24d-4ad9-9f68-b07853d40ce8', 'efb442c0-80b8-474d-a2a2-40661acb17f0', 'b09b1cfb-a32a-4fa5-878c-d6604185d9d9', '579ac49c-01c6-4367-bcbd-35bb5aece9d5'], 'mutual_friends': 1}, {'userId': 'a32be5d8-41a3-479d-81d5-f130d2d61e60', 'username': 'AarohiPatel243', 'friends': ['6c6be4cc-800b-432a-afe2-328618e92c95', '7b52eac9-ecc5-4d76-9ba6-db04a59f5ae5', 'e42c3958-e4b1-4505-9f0b-651c6c069921', 'e3043c9a-e936-4e3a-8696-1b8d8699c235', 'fbcf724d-3d18-41eb-9345-e4ab6627fbf6', '251d7a74-4209-4ec0-8b2b-ba554b285a68', '6a8bb0c0-5115-465d-b0d3-78a26cbd7872', 'a6de0b80-1e8a-48bf-bb96-9524182fba36'], 'mutual_friends': 1}, {'userId': 'a50c7f49-50f2-42d1-8a00-e373c431af5d', 'username': 'MyraChatterjee424', 'friends': ['898dcc36-6f2e-44a1-816f-d865013058ff'], 'mutual_friends': 1}, {'userId': 'edecfa9a-d2b6-413f-94c7-abe0eb843f1c', 'username': 'KiaraChatterjee703', 'friends': ['71217215-8c38-4dbb-91ee-1ab63e23e9c7', '3b6740ab-5687-4a53-8b6d-141815879000', '2e1a7c7f-8047-490d-b89b-b29f4761e158', '6aa0a7b5-4675-4321-8db6-ddf5be661c62', '0ce672ce-bccb-4758-8928-5880f47fe87a', '85ee89ae-cfc4-4de9-be39-d2b6ea1749f3'], 'mutual_friends': 1}, {'userId': 'e9efe1ff-fc42-47b4-aaa7-be2a8dbfaf91', 'username': 'KiaraChatterjee580', 'friends': ['75302866-6d48-4eff-b5cc-e80f44b1ea73', '2e3b37f5-1c7c-4853-889a-324cb274f905'], 'mutual_friends': 1}, {'userId': '41715b9b-ddac-4e6a-ae00-3342f1283342', 'username': 'KrishnaNair913', 'friends': ['d20b36c2-61b5-4262-8063-4b077a7b8fcf', '770b9f9b-b0ab-45db-a899-d71fc6fb848b', 'bb409463-821d-4c9a-9207-6efb262d53c8', 'c8512188-4ec8-4914-9b4a-6a8b00a094f2', 'a38b7ec9-ccb0-4ab2-b1ce-45cff5cd2111', 'f1469250-0d1e-480a-b73f-4437e0d227ab', 'f9409a20-94eb-4d38-99b7-231382066bdf', 'f9ace59b-163a-4477-b844-757be38916cc'], 'mutual_friends': 1}, {'userId': 'fde12761-8a01-412f-b0a1-6d46df12e458', 'username': 'AdityaDas451', 'friends': ['c886629c-be1a-431d-8ed9-3579c42423bf', '6f5c91dc-448d-44cc-af85-3f93e3fe31cb', '1955b526-6850-4f59-bed7-c1d84dd99a59', '66ff0419-7f96-4ef1-bbf8-5cbcaf108987'], 'mutual_friends': 1}]\n"
     ]
    }
   ],
   "source": [
    "def get_suggestions(userId): \n",
    "    total_friends = {}\n",
    "    for user in users.values():\n",
    "        total_friends[user['userId']] = set([userId for userId in user['friends'] if userId not in nulls])\n",
    "\n",
    "    if userId not in total_friends:\n",
    "        return []\n",
    "    \n",
    "    direct_friends = total_friends[userId]\n",
    "\n",
    "    suggestion_friends = {}\n",
    "\n",
    "    for friend in direct_friends:\n",
    "        for friend_friend in total_friends[friend]:\n",
    "            if friend_friend != userId and friend_friend not in direct_friends:\n",
    "                suggestion_friends[friend_friend] = suggestion_friends.get(friend_friend, 0) + 1\n",
    "\n",
    "    suggestion_friends = sorted(suggestion_friends.items(), key=lambda x: x[1], reverse=True)\n",
    "\n",
    "    suggestions = []\n",
    "    \n",
    "    for suggestion_id, mutual_count in suggestion_friends:\n",
    "        suggestion  = users.get(suggestion_id)\n",
    "        if suggestion:\n",
    "            suggestion_copy = suggestion.copy()\n",
    "            suggestion_copy['mutual_friends'] = mutual_count\n",
    "            suggestions.append(suggestion_copy)\n",
    "\n",
    "    return suggestions\n",
    "\n",
    "suggestions = get_suggestions(userId)\n",
    "print(suggestions)"
   ]
  }
 ],
 "metadata": {
  "kernelspec": {
   "display_name": "Python 3",
   "language": "python",
   "name": "python3"
  },
  "language_info": {
   "codemirror_mode": {
    "name": "ipython",
    "version": 3
   },
   "file_extension": ".py",
   "mimetype": "text/x-python",
   "name": "python",
   "nbconvert_exporter": "python",
   "pygments_lexer": "ipython3",
   "version": "3.12.0"
  }
 },
 "nbformat": 4,
 "nbformat_minor": 5
}
