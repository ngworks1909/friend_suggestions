{
 "cells": [
  {
   "cell_type": "code",
   "execution_count": 21,
   "id": "7bd104f2",
   "metadata": {},
   "outputs": [],
   "source": [
    "import json"
   ]
  },
  {
   "cell_type": "code",
   "execution_count": 22,
   "id": "9d1c91cb",
   "metadata": {},
   "outputs": [],
   "source": [
    "def load_data(filename): \n",
    "    with open(filename, 'r') as file: \n",
    "        return json.load(file)"
   ]
  },
  {
   "cell_type": "code",
   "execution_count": 47,
   "id": "d7f23f49",
   "metadata": {},
   "outputs": [],
   "source": [
    "def fetch_people_you_know(user_id, data): \n",
    "    total_friends = {}\n",
    "    for user in data['users']:\n",
    "        total_friends[user['id']] = set(user['friends'])\n",
    "    if not user_id in total_friends:\n",
    "        return []\n",
    "    user_friends = total_friends[user_id]\n",
    "    suggestions = {}\n",
    "\n",
    "    for friend in user_friends:\n",
    "        for mutual in total_friends[friend]:\n",
    "            if mutual != user_id and mutual not in suggestions:\n",
    "                suggestions[mutual] = suggestions.get(mutual, 0) + 1\n",
    "    \n",
    "    sorted_suggestions = sorted(suggestions.items(), key=lambda x: x[1], reverse=True)\n",
    "\n",
    "    return [userId for userId, _ in sorted_suggestions]\n",
    "\n"
   ]
  },
  {
   "cell_type": "code",
   "execution_count": 52,
   "id": "f5767b26",
   "metadata": {},
   "outputs": [
    {
     "name": "stdout",
     "output_type": "stream",
     "text": [
      "People you may know: [3, 4, 5, 6, 1, 7, 8, 10, 11, 12, 9, 13]\n"
     ]
    }
   ],
   "source": [
    "data = load_data('data.json')\n",
    "user_id = 2\n",
    "suggestions = fetch_people_you_know(user_id, data)\n",
    "print('People you may know:', suggestions)\n"
   ]
  },
  {
   "cell_type": "code",
   "execution_count": null,
   "id": "fa23034f",
   "metadata": {},
   "outputs": [],
   "source": []
  }
 ],
 "metadata": {
  "kernelspec": {
   "display_name": "Python 3",
   "language": "python",
   "name": "python3"
  },
  "language_info": {
   "codemirror_mode": {
    "name": "ipython",
    "version": 3
   },
   "file_extension": ".py",
   "mimetype": "text/x-python",
   "name": "python",
   "nbconvert_exporter": "python",
   "pygments_lexer": "ipython3",
   "version": "3.12.0"
  }
 },
 "nbformat": 4,
 "nbformat_minor": 5
}
